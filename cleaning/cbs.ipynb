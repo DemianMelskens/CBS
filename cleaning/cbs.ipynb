{
 "cells": [
  {
   "cell_type": "markdown",
   "metadata": {
    "collapsed": true
   },
   "source": [
    "# CBS"
   ]
  },
  {
   "cell_type": "code",
   "execution_count": 37,
   "metadata": {},
   "outputs": [],
   "source": [
    "# all imports\n",
    "from instaloader import Post\n",
    "from IPython.display import clear_output\n",
    "import pandas as pd\n",
    "import os\n",
    "import instaloader\n",
    "import sys\n",
    "import re\n",
    "import numpy as np\n",
    "\n",
    "filepath = 'data/'\n",
    "filename = 'Coosto_berichten5.csv'"
   ]
  },
  {
   "cell_type": "code",
   "execution_count": 38,
   "metadata": {},
   "outputs": [],
   "source": [
    "# functions    \n",
    "def outputCSV(dataset, filename):\n",
    "    dataset.to_csv(filepath + filename, sep=';')\n",
    "    \n",
    "def cprint(text):\n",
    "    sys.stdout.write(\"\\r\" + text)\n",
    "    sys.stdout.flush()"
   ]
  },
  {
   "cell_type": "code",
   "execution_count": 39,
   "metadata": {},
   "outputs": [
    {
     "data": {
      "text/plain": [
       "datum               9993\n",
       "url                 9993\n",
       "sentiment           4029\n",
       "discussielengte     3562\n",
       "views               9026\n",
       "auteur              9993\n",
       "GPS breedtegraad    5263\n",
       "GPS lengtegraad     5263\n",
       "bericht tekst       9993\n",
       "dtype: int64"
      ]
     },
     "execution_count": 39,
     "metadata": {},
     "output_type": "execute_result"
    }
   ],
   "source": [
    "# retrieve data\n",
    "insta = pd.read_csv(filepath + filename, delimiter=';')\n",
    "\n",
    "# remove empty columns\n",
    "insta = insta.drop(['zoekopdracht', 'type', 'volgers', 'invloed', 'titel', 'type bron'], axis=1)\n",
    "\n",
    "# check with count()\n",
    "insta.count()"
   ]
  },
  {
   "cell_type": "code",
   "execution_count": 40,
   "metadata": {},
   "outputs": [],
   "source": [
    "import time\n",
    "# Download all posts from instagram using an array of urls\n",
    "def get_posts(urls):\n",
    "    posts_dict = {}\n",
    "    total_length = len(urls)\n",
    "    L = instaloader.Instaloader()\n",
    "    for index, url in enumerate(urls):\n",
    "        shortcode = url.split(\"/\")[-2]\n",
    "        \n",
    "        #time.sleep(0.1) \n",
    "        try:    \n",
    "            post = Post.from_shortcode(L.context, url.split(\"/\")[-2])\n",
    "            posts_dict[shortcode] = post\n",
    "        except:\n",
    "            pass\n",
    "        \n",
    "        cprint(\"Getting posts \" + str(round((index / total_length) * 100)) + \"% completed\")\n",
    "        \n",
    "    return posts_dict\n",
    "\n",
    "\n",
    "# Get the indexes of the posts which do not exist anymore\n",
    "def get_non_exsisting_posts(dataset, posts_dict):\n",
    "    indexes_to_drop = []\n",
    "    \n",
    "    for index, row in dataset.iterrows():\n",
    "        shortcode = row['url'].split(\"/\")[-2]\n",
    "        if not shortcode in posts_dict:\n",
    "            indexes_to_drop.append(index)\n",
    "    \n",
    "    return indexes_to_drop\n",
    "            \n",
    "\n",
    "# Delete posts from the dataset based on an array of indexes\n",
    "def del_posts(data, indexes_to_drop):\n",
    "    for index in indexes_to_drop:\n",
    "        data = data.drop(index=index, axis=0)\n",
    "    return data\n",
    "\n",
    "\n",
    "# Enrich dataset with like count\n",
    "def add_like_count_to_dataset(dataset, posts_dict):\n",
    "    for index, row in dataset.iterrows():\n",
    "        shortcode = row['url'].split(\"/\")[-2]\n",
    "        if shortcode in posts_dict:\n",
    "            dataset.at[index, 'likes count'] = posts_dict[shortcode].likes\n",
    "    return dataset\n",
    "\n",
    "\n",
    "# Adds utc date to the dataset\n",
    "def add_date_utc(dataset, posts_dict):\n",
    "    for index, row in dataset.iterrows():\n",
    "        shortcode = row['url'].split('/')[-2]\n",
    "        if shortcode in posts_dict:\n",
    "            dataset.at[index, 'datum utc'] = posts_dict[shortcode].date_utc\n",
    "            \n",
    "    return dataset\n",
    "\n",
    "\n",
    "# Refreshes comment count\n",
    "def refresh_comment_count(dataset, posts_dict):\n",
    "    for index, row in dataset.iterrows():\n",
    "        shortcode = row['url'].split('/')[-2]\n",
    "        if shortcode in posts_dict:\n",
    "            dataset.at[index, 'discussielengte'] = posts_dict[shortcode].comments\n",
    "            \n",
    "    return dataset\n",
    "\n",
    "\n",
    "# Refreshes view count\n",
    "def refresh_views(dataset, posts_dict):\n",
    "    for index, row in dataset.iterrows():\n",
    "        shortcode = row['url'].split('/')[-2]\n",
    "        if shortcode in posts_dict:\n",
    "            dataset.at[index, 'views'] = posts_dict[shortcode].likes\n",
    "            \n",
    "    return dataset\n",
    "\n",
    "# Cleans invalid urls and enriches with like count, data utc, comment count and view count\n",
    "def clean_und_enrich(dataset):\n",
    "    posts_dict = get_posts(dataset['url'])\n",
    "    indexes_to_drop = get_non_exsisting_posts(dataset, posts_dict)\n",
    "    dataset = del_posts(dataset, indexes_to_drop)\n",
    "    dataset = add_like_count_to_dataset(dataset, posts_dict)\n",
    "    dataset = add_date_utc(dataset, posts_dict)\n",
    "    dataset = refresh_comment_count(dataset, posts_dict)\n",
    "    dataset = refresh_views(dataset, posts_dict)\n",
    "    \n",
    "    return dataset, indexes_to_drop\n",
    "\n",
    "def improve_sentiment(dataset):\n",
    "    dataset['sentiment'] = dataset['sentiment'].replace(np.nan, '0')\n",
    "    \n",
    "    return dataset\n",
    "\n",
    "def isolate_hashtag(data):  \n",
    "    total_hashtags = []\n",
    "    for index, row in data.iterrows():\n",
    "        text = row['bericht tekst'] \n",
    "        #print(text)\n",
    "        \n",
    "        # find all hashtags in text and isolate them in new column\n",
    "        total_hashtags.append(' '.join(re.findall(r\"#(\\w+)\", text)))\n",
    "        \n",
    "        #remove hashtags from text\n",
    "        pattern = re.compile(\"#(\\w+)\")\n",
    "        newText = pattern.sub(r'', text)\n",
    "        data.at[index, 'bericht tekst'] = newText\n",
    "        \n",
    "    \n",
    "    data['hashtags'] = total_hashtags\n",
    "    return data\n",
    "\n",
    "def remove_emoji(data):  \n",
    "    indexes_to_drop = []\n",
    "        \n",
    "    for index, row in data.iterrows():\n",
    "        a = row['bericht tekst']\n",
    "\n",
    "        # todo: vul aan met meer emoji's\n",
    "        emoji_pattern = re.compile(\"[\"\n",
    "                          u\"\\U0001F600-\\U0001F64F\"  # emoticons\n",
    "                           u\"\\U0001F300-\\U0001F5FF\"  # symbols & pictographs\n",
    "                           u\"\\U0001F680-\\U0001F6FF\"  # transport & map symbols\n",
    "                           u\"\\U0001F1E0-\\U0001F1FF\"  # flags (iOS)\n",
    "                           u\"\\U00002702-\\U000027B0\"\n",
    "                           u\"\\U000024C2-\\U0001F251\"\n",
    "                               \"]+\", flags=re.UNICODE)\n",
    "        newValue = emoji_pattern.sub(r'', a)\n",
    "        newValue = newValue.replace('🥗', '')\n",
    "        if newValue == '' : \n",
    "            indexes_to_drop.append(index)\n",
    "            \n",
    "        else:\n",
    "            data.at[index, 'bericht tekst'] = newValue\n",
    "    \n",
    "    pass\n",
    "    data = del_posts(data, indexes_to_drop)\n",
    "    return data"
   ]
  },
  {
   "cell_type": "code",
   "execution_count": 41,
   "metadata": {},
   "outputs": [],
   "source": [
    "#insta = improve_sentiment(insta)\n",
    "#insta = remove_emoji(insta)\n",
    "#insta = clean_und_enrich(insta)\n",
    "#insta = isolate_hashtag(insta)\n",
    "\n",
    "# Resets index\n",
    "#insta.index = range(len(insta))"
   ]
  },
  {
   "cell_type": "code",
   "execution_count": 42,
   "metadata": {},
   "outputs": [],
   "source": [
    "#insta.head(20)"
   ]
  },
  {
   "cell_type": "code",
   "execution_count": 43,
   "metadata": {},
   "outputs": [
    {
     "name": "stdout",
     "output_type": "stream",
     "text": [
      "5\n"
     ]
    }
   ],
   "source": [
    "chunksize = 2000\n",
    "made_files = 0\n",
    "\n",
    "def split_file(made_files):\n",
    "    for i,chunk in enumerate(pd.read_csv(filepath + filename, delimiter=';', chunksize=chunksize)):\n",
    "        chunk = chunk.drop(['zoekopdracht', 'type', 'volgers', 'invloed', 'titel', 'type bron'], axis=1)\n",
    "        chunk.to_csv(filepath + 'set{}.csv'.format(i), sep=';')\n",
    "        made_files +=1\n",
    "    return made_files\n",
    "\n",
    "made_files = split_file(made_files)\n",
    "print(made_files)\n",
    "    "
   ]
  },
  {
   "cell_type": "code",
   "execution_count": 44,
   "metadata": {},
   "outputs": [
    {
     "name": "stdout",
     "output_type": "stream",
     "text": [
      "Invalid urls found in total: 1277\n",
      "Invalid urls found in last chunk: 335\n",
      "Working on chuck 5/5\n",
      "Getting posts 100% completed\n",
      "\n",
      "Wall time: 4h 16min 6s\n",
      "\n",
      "All 5 chunks processed\n"
     ]
    }
   ],
   "source": [
    "#Cleaning al data files after another\n",
    "def clean_splitted_files():\n",
    "    invalid_urls = []\n",
    "    total_invalid_urls = 0\n",
    "    for num in range(0, made_files):\n",
    "        clear_output()\n",
    "        cprint('Invalid urls found in total: ' + str(total_invalid_urls) + \"\\n\")\n",
    "        cprint('Invalid urls found in last chunk: ' + str(len(invalid_urls)) + \"\\n\")\n",
    "        \n",
    "        print(\"Working on chuck \" + str(num + 1) + \"/\" + str(made_files))\n",
    "        \n",
    "        setfile = pd.read_csv(filepath + \"set\"+ str(num) + '.csv', delimiter=';')\n",
    "\n",
    "        setfile = improve_sentiment(setfile)\n",
    "        setfile = remove_emoji(setfile)\n",
    "        setfile, invalid_urls = clean_und_enrich(setfile)\n",
    "        setfile = isolate_hashtag(setfile)\n",
    "        \n",
    "        total_invalid_urls += len(invalid_urls)\n",
    "        \n",
    "\n",
    "        \n",
    "        # Resets index\n",
    "        outputCSV(setfile,\"set\"+ str(num) + '.csv')\n",
    "\n",
    "    print(\"\\n\")\n",
    "        \n",
    "%time clean_splitted_files()\n",
    "print(\"\\nAll \" + str(made_files) + \" chunks processed\")"
   ]
  },
  {
   "cell_type": "code",
   "execution_count": 45,
   "metadata": {},
   "outputs": [
    {
     "name": "stdout",
     "output_type": "stream",
     "text": [
      "Merged 5 chunks successfully\n"
     ]
    }
   ],
   "source": [
    "#Mergin all datafile in one file\n",
    "\n",
    "def merge_splitted_files_to_one():\n",
    "    merged_filename = filename[:-4] + \"_c.csv\"\n",
    "    try:\n",
    "        os.remove(filepath + merged_filename)\n",
    "    except OSError:\n",
    "        pass\n",
    "\n",
    "    outputfile = open(filepath + merged_filename, \"a\", encoding=\"utf8\")\n",
    "    for line in open(filepath + \"set0.csv\", encoding=\"utf8\"):\n",
    "        outputfile.write(line)\n",
    "    # now the rest:    \n",
    "    for num in range(1,made_files):\n",
    "        setfile = open(filepath +\"set\"+ str(num) +\".csv\", encoding=\"utf8\")\n",
    "        setfile.__next__() # skip the header\n",
    "        for line in setfile:\n",
    "             outputfile.write(line)\n",
    "        setfile.close() # not really needed\n",
    "    outputfile.close()\n",
    "    \n",
    "merge_splitted_files_to_one()\n",
    "print(\"Merged \" + str(made_files) + \" chunks successfully\")"
   ]
  },
  {
   "cell_type": "code",
   "execution_count": 46,
   "metadata": {},
   "outputs": [],
   "source": [
    "#Deleting all made files\n",
    "for num in range(0,made_files):\n",
    "    try:\n",
    "        os.remove(filepath +\"set\"+ str(num) +\".csv\")\n",
    "    except OSError:\n",
    "        pass"
   ]
  },
  {
   "cell_type": "code",
   "execution_count": 5,
   "metadata": {},
   "outputs": [],
   "source": []
  },
  {
   "cell_type": "code",
   "execution_count": 5,
   "metadata": {},
   "outputs": [],
   "source": []
  },
  {
   "cell_type": "code",
   "execution_count": 5,
   "metadata": {},
   "outputs": [],
   "source": []
  },
  {
   "cell_type": "code",
   "execution_count": 5,
   "metadata": {},
   "outputs": [],
   "source": []
  },
  {
   "cell_type": "code",
   "execution_count": null,
   "metadata": {},
   "outputs": [],
   "source": []
  }
 ],
 "metadata": {
  "kernelspec": {
   "display_name": "Python 3",
   "language": "python",
   "name": "python3"
  },
  "language_info": {
   "codemirror_mode": {
    "name": "ipython",
    "version": 3
   },
   "file_extension": ".py",
   "mimetype": "text/x-python",
   "name": "python",
   "nbconvert_exporter": "python",
   "pygments_lexer": "ipython3",
   "version": "3.6.5"
  }
 },
 "nbformat": 4,
 "nbformat_minor": 1
}
