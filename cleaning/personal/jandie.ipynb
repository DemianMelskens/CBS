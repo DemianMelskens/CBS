{
 "cells": [
  {
   "cell_type": "markdown",
   "metadata": {
    "collapsed": true
   },
   "source": [
    "# CBS"
   ]
  },
  {
   "cell_type": "code",
   "execution_count": 23,
   "metadata": {},
   "outputs": [],
   "source": [
    "# all imports\n",
    "import pandas as pd\n",
    "import os\n",
    "import instaloader\n",
    "from instaloader import Post\n",
    "import sys\n",
    "import re"
   ]
  },
  {
   "cell_type": "code",
   "execution_count": 24,
   "metadata": {},
   "outputs": [],
   "source": [
    "# functions    \n",
    "def outputCSV(dataset, filename):\n",
    "    dataset.to_csv(\"./data/\" + filename, sep=';')\n",
    "    \n",
    "def cprint(text):\n",
    "    sys.stdout.write(\"\\r\" + text)\n",
    "    sys.stdout.flush()"
   ]
  },
  {
   "cell_type": "code",
   "execution_count": 25,
   "metadata": {},
   "outputs": [
    {
     "data": {
      "text/plain": [
       "datum               22\nurl                 22\nsentiment            6\ndiscussielengte     19\nviews                5\nauteur              22\nGPS breedtegraad     2\nGPS lengtegraad      2\nbericht tekst       22\ndtype: int64"
      ]
     },
     "execution_count": 25,
     "metadata": {},
     "output_type": "execute_result"
    }
   ],
   "source": [
    "# retrieve data\n",
    "insta = pd.read_csv('./data/Coosto_berichten.csv', delimiter=';')\n",
    "\n",
    "# remove empty columns\n",
    "insta = insta.drop(['zoekopdracht', 'type', 'volgers', 'invloed', 'titel', 'type bron'], axis=1)\n",
    "\n",
    "# check with count()\n",
    "insta.count()"
   ]
  },
  {
   "cell_type": "code",
   "execution_count": 20,
   "metadata": {},
   "outputs": [
    {
     "name": "stdout",
     "output_type": "stream",
     "text": [
      "\rGetting posts 0% completed"
     ]
    },
    {
     "name": "stdout",
     "output_type": "stream",
     "text": [
      "\rGetting posts 5% completed"
     ]
    },
    {
     "name": "stdout",
     "output_type": "stream",
     "text": [
      "\rGetting posts 9% completed"
     ]
    },
    {
     "name": "stdout",
     "output_type": "stream",
     "text": [
      "\rGetting posts 14% completed"
     ]
    },
    {
     "name": "stdout",
     "output_type": "stream",
     "text": [
      "\rGetting posts 18% completed"
     ]
    },
    {
     "name": "stdout",
     "output_type": "stream",
     "text": [
      "\rGetting posts 23% completed"
     ]
    },
    {
     "name": "stdout",
     "output_type": "stream",
     "text": [
      "\rGetting posts 27% completed"
     ]
    },
    {
     "name": "stdout",
     "output_type": "stream",
     "text": [
      "\rGetting posts 32% completed"
     ]
    },
    {
     "name": "stdout",
     "output_type": "stream",
     "text": [
      "\rGetting posts 36% completed"
     ]
    },
    {
     "name": "stdout",
     "output_type": "stream",
     "text": [
      "\rGetting posts 41% completed"
     ]
    },
    {
     "name": "stdout",
     "output_type": "stream",
     "text": [
      "\rGetting posts 45% completed"
     ]
    },
    {
     "name": "stdout",
     "output_type": "stream",
     "text": [
      "\rGetting posts 50% completed"
     ]
    },
    {
     "name": "stdout",
     "output_type": "stream",
     "text": [
      "\rGetting posts 55% completed"
     ]
    },
    {
     "name": "stdout",
     "output_type": "stream",
     "text": [
      "\rGetting posts 59% completed"
     ]
    },
    {
     "name": "stdout",
     "output_type": "stream",
     "text": [
      "\rGetting posts 64% completed"
     ]
    },
    {
     "name": "stdout",
     "output_type": "stream",
     "text": [
      "\rGetting posts 68% completed"
     ]
    },
    {
     "name": "stdout",
     "output_type": "stream",
     "text": [
      "\rGetting posts 73% completed"
     ]
    },
    {
     "name": "stdout",
     "output_type": "stream",
     "text": [
      "\rGetting posts 77% completed"
     ]
    },
    {
     "name": "stdout",
     "output_type": "stream",
     "text": [
      "\rGetting posts 82% completed"
     ]
    },
    {
     "name": "stdout",
     "output_type": "stream",
     "text": [
      "\rGetting posts 86% completed"
     ]
    },
    {
     "name": "stdout",
     "output_type": "stream",
     "text": [
      "\rGetting posts 91% completed"
     ]
    },
    {
     "name": "stdout",
     "output_type": "stream",
     "text": [
      "\rGetting posts 95% completed"
     ]
    },
    {
     "name": "stdout",
     "output_type": "stream",
     "text": [
      "\r\nInvalid urls found: 3"
     ]
    }
   ],
   "source": [
    "# Download all posts from instagram using an array of urls\n",
    "def get_posts(urls):\n",
    "    posts_dict = {}\n",
    "    total_length = len(urls)\n",
    "    \n",
    "    for index, url in enumerate(urls):\n",
    "        shortcode = url.split(\"/\")[-2]\n",
    "        \n",
    "        try:\n",
    "            L = instaloader.Instaloader()\n",
    "            post = Post.from_shortcode(L.context, url.split(\"/\")[-2])\n",
    "            posts_dict[shortcode] = post\n",
    "        except:\n",
    "            pass\n",
    "        \n",
    "        cprint(\"Getting posts \" + str(round((index / total_length) * 100)) + \"% completed\")\n",
    "        \n",
    "    return posts_dict\n",
    "\n",
    "\n",
    "# Get the indexes of the posts which do not exist anymore\n",
    "def get_non_exsisting_posts(dataset, posts_dict):\n",
    "    indexes_to_drop = []\n",
    "    \n",
    "    for index, row in dataset.iterrows():\n",
    "        shortcode = row['url'].split(\"/\")[-2]\n",
    "        if not shortcode in posts_dict:\n",
    "            indexes_to_drop.append(index)\n",
    "    \n",
    "    return indexes_to_drop\n",
    "            \n",
    "\n",
    "# Delete posts from the dataset based on an array of indexes\n",
    "def del_posts(data, indexes_to_drop):\n",
    "    for index in indexes_to_drop:\n",
    "        data = data.drop(index=index, axis=0)\n",
    "    return data\n",
    "\n",
    "\n",
    "# Enrich dataset with like count\n",
    "def add_like_count_to_dataset(dataset, posts_dict):\n",
    "    for index, row in dataset.iterrows():\n",
    "        shortcode = row['url'].split(\"/\")[-2]\n",
    "        if shortcode in posts_dict:\n",
    "            dataset.at[index, 'likes count'] = posts_dict[shortcode].likes\n",
    "            \n",
    "    return dataset\n",
    "\n",
    "\n",
    "# Cleans invalid urls and enriches with like count\n",
    "def clean_und_enrich(dataset):\n",
    "    posts_dict = get_posts(dataset['url'])\n",
    "    indexes_to_drop = get_non_exsisting_posts(dataset, posts_dict)\n",
    "    dataset = del_posts(dataset, indexes_to_drop)\n",
    "    dataset = add_like_count_to_dataset(dataset, posts_dict)\n",
    "    \n",
    "    return dataset\n",
    "\n",
    "\n",
    "insta = clean_und_enrich(insta)\n",
    "cprint('\\nInvalid urls found: ' + str(len(indexes_to_drop)))\n",
    "\n",
    "# Resets index\n",
    "insta.index = range(len(insta))\n"
   ]
  },
  {
   "cell_type": "code",
   "execution_count": 21,
   "metadata": {},
   "outputs": [],
   "source": [
    "def remove_emoji(data):  \n",
    "    indexes_to_drop = []\n",
    "    for index, row in data.iterrows():\n",
    "        a = row['bericht tekst']\n",
    "\n",
    "        # todo: vul aan met meer emoji's\n",
    "        emoji_pattern = re.compile(\"[\"\n",
    "                          u\"\\U0001F600-\\U0001F64F\"  # emoticons\n",
    "                           u\"\\U0001F300-\\U0001F5FF\"  # symbols & pictographs\n",
    "                           u\"\\U0001F680-\\U0001F6FF\"  # transport & map symbols\n",
    "                           u\"\\U0001F1E0-\\U0001F1FF\"  # flags (iOS)\n",
    "                           u\"\\U00002702-\\U000027B0\"\n",
    "                           u\"\\U000024C2-\\U0001F251\"\n",
    "                               \"]+\", flags=re.UNICODE)\n",
    "        newValue = emoji_pattern.sub(r'', a)\n",
    "        if newValue == '' : \n",
    "            indexes_to_drop.append(newValue)\n",
    "        else:\n",
    "            data.at[index, 'bericht tekst'] = newValue\n",
    "            \n",
    "    return data\n",
    "\n",
    "insta = remove_emoji(insta)"
   ]
  },
  {
   "cell_type": "code",
   "execution_count": 22,
   "metadata": {},
   "outputs": [],
   "source": [
    "# output new cleaned dataset\n",
    "data = insta\n",
    "outputCSV(data, \"cleaned.csv\")"
   ]
  },
  {
   "cell_type": "code",
   "execution_count": 5,
   "metadata": {},
   "outputs": [],
   "source": [
    "insta.head()"
   ]
  },
  {
   "cell_type": "code",
   "execution_count": 5,
   "metadata": {},
   "outputs": [],
   "source": []
  },
  {
   "cell_type": "code",
   "execution_count": 5,
   "metadata": {},
   "outputs": [],
   "source": []
  },
  {
   "cell_type": "code",
   "execution_count": 5,
   "metadata": {},
   "outputs": [],
   "source": []
  },
  {
   "cell_type": "code",
   "execution_count": 5,
   "metadata": {},
   "outputs": [],
   "source": []
  },
  {
   "cell_type": "code",
   "execution_count": 5,
   "metadata": {},
   "outputs": [],
   "source": []
  },
  {
   "cell_type": "code",
   "execution_count": 5,
   "metadata": {},
   "outputs": [],
   "source": []
  },
  {
   "cell_type": "code",
   "execution_count": 5,
   "metadata": {},
   "outputs": [],
   "source": []
  },
  {
   "cell_type": "code",
   "execution_count": null,
   "metadata": {},
   "outputs": [],
   "source": []
  }
 ],
 "metadata": {
  "kernelspec": {
   "display_name": "Python 3",
   "language": "python",
   "name": "python3"
  },
  "language_info": {
   "codemirror_mode": {
    "name": "ipython",
    "version": 3
   },
   "file_extension": ".py",
   "mimetype": "text/x-python",
   "name": "python",
   "nbconvert_exporter": "python",
   "pygments_lexer": "ipython3",
   "version": "3.6.5"
  }
 },
 "nbformat": 4,
 "nbformat_minor": 1
}
