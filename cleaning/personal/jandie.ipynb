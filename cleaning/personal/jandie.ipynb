{
 "cells": [
  {
   "cell_type": "markdown",
   "metadata": {
    "collapsed": true
   },
   "source": [
    "# CBS"
   ]
  },
  {
   "cell_type": "code",
   "execution_count": 5,
   "metadata": {},
   "outputs": [],
   "source": [
    "# all imports\n",
    "import pandas as pd\n",
    "import os\n",
    "import instaloader\n",
    "from instaloader import Post\n",
    "import sys\n",
    "import re"
   ]
  },
  {
   "cell_type": "code",
   "execution_count": 6,
   "metadata": {},
   "outputs": [],
   "source": [
    "# functions    \n",
    "def outputCSV(dataset, filename):\n",
    "    dataset.to_csv(\"C:/Users/Jandie/PyCharmProjects/CBS/data/\" + filename, sep=';')\n",
    "    \n",
    "def cprint(text):\n",
    "    sys.stdout.write(\"\\r\" + text)\n",
    "    sys.stdout.flush()"
   ]
  },
  {
   "cell_type": "code",
   "execution_count": 7,
   "metadata": {},
   "outputs": [
    {
     "data": {
      "text/plain": [
       "datum               22\nurl                 22\nsentiment            6\ndiscussielengte     19\nviews                5\nauteur              22\nGPS breedtegraad     2\nGPS lengtegraad      2\nbericht tekst       22\ndtype: int64"
      ]
     },
     "execution_count": 7,
     "metadata": {},
     "output_type": "execute_result"
    }
   ],
   "source": [
    "# retrieve data\n",
    "insta = pd.read_csv('C:/Users/Jandie/PyCharmProjects/CBS/data/Coosto_berichten.csv', delimiter=';')\n",
    "\n",
    "# remove empty columns\n",
    "insta = insta.drop(['zoekopdracht', 'type', 'volgers', 'invloed', 'titel', 'type bron'], axis=1)\n",
    "\n",
    "# check with count()\n",
    "insta.count()"
   ]
  },
  {
   "cell_type": "code",
   "execution_count": 13,
   "metadata": {},
   "outputs": [
    {
     "name": "stdout",
     "output_type": "stream",
     "text": [
      "\rGetting posts 0% completed"
     ]
    },
    {
     "name": "stdout",
     "output_type": "stream",
     "text": [
      "\rGetting posts 5% completed"
     ]
    },
    {
     "name": "stdout",
     "output_type": "stream",
     "text": [
      "\rGetting posts 11% completed"
     ]
    },
    {
     "name": "stdout",
     "output_type": "stream",
     "text": [
      "\rGetting posts 16% completed"
     ]
    },
    {
     "name": "stdout",
     "output_type": "stream",
     "text": [
      "\rGetting posts 21% completed"
     ]
    },
    {
     "name": "stdout",
     "output_type": "stream",
     "text": [
      "\rGetting posts 26% completed"
     ]
    },
    {
     "name": "stdout",
     "output_type": "stream",
     "text": [
      "\rGetting posts 32% completed"
     ]
    },
    {
     "name": "stdout",
     "output_type": "stream",
     "text": [
      "\rGetting posts 37% completed"
     ]
    },
    {
     "name": "stdout",
     "output_type": "stream",
     "text": [
      "\rGetting posts 42% completed"
     ]
    },
    {
     "name": "stdout",
     "output_type": "stream",
     "text": [
      "\rGetting posts 47% completed"
     ]
    },
    {
     "name": "stdout",
     "output_type": "stream",
     "text": [
      "\rGetting posts 53% completed"
     ]
    },
    {
     "name": "stdout",
     "output_type": "stream",
     "text": [
      "\rGetting posts 58% completed"
     ]
    },
    {
     "name": "stdout",
     "output_type": "stream",
     "text": [
      "\rGetting posts 63% completed"
     ]
    },
    {
     "name": "stdout",
     "output_type": "stream",
     "text": [
      "\rGetting posts 68% completed"
     ]
    },
    {
     "name": "stdout",
     "output_type": "stream",
     "text": [
      "\rGetting posts 74% completed"
     ]
    },
    {
     "name": "stdout",
     "output_type": "stream",
     "text": [
      "\rGetting posts 79% completed"
     ]
    },
    {
     "name": "stdout",
     "output_type": "stream",
     "text": [
      "\rGetting posts 84% completed"
     ]
    },
    {
     "name": "stdout",
     "output_type": "stream",
     "text": [
      "\rGetting posts 89% completed"
     ]
    },
    {
     "name": "stdout",
     "output_type": "stream",
     "text": [
      "\rGetting posts 95% completed"
     ]
    },
    {
     "name": "stdout",
     "output_type": "stream",
     "text": [
      "\r\nInvalid urls found: 0"
     ]
    }
   ],
   "source": [
    "# Download all posts from instagram using an array of urls\n",
    "def get_posts(urls):\n",
    "    posts_dict = {}\n",
    "    total_length = len(urls)\n",
    "    \n",
    "    for index, url in enumerate(urls):\n",
    "        shortcode = url.split(\"/\")[-2]\n",
    "        \n",
    "        try:\n",
    "            L = instaloader.Instaloader()\n",
    "            post = Post.from_shortcode(L.context, url.split(\"/\")[-2])\n",
    "            posts_dict[shortcode] = post\n",
    "        except:\n",
    "            pass\n",
    "        \n",
    "        cprint(\"Getting posts \" + str(round((index / total_length) * 100)) + \"% completed\")\n",
    "        \n",
    "    return posts_dict\n",
    "\n",
    "\n",
    "# Get the indexes of the posts which do not exist anymore\n",
    "def get_non_exsisting_posts(dataset, posts_dict):\n",
    "    indexes_to_drop = []\n",
    "    \n",
    "    for index, row in dataset.iterrows():\n",
    "        shortcode = row['url'].split(\"/\")[-2]\n",
    "        if not shortcode in posts_dict:\n",
    "            indexes_to_drop.append(index)\n",
    "    \n",
    "    return indexes_to_drop\n",
    "            \n",
    "\n",
    "# Delete posts from the dataset based on an array of indexes\n",
    "def del_posts(data, indexes_to_drop):\n",
    "    for index in indexes_to_drop:\n",
    "        data = data.drop(index=index, axis=0)\n",
    "    return data\n",
    "\n",
    "\n",
    "# Enrich dataset with like count\n",
    "def add_like_count_to_dataset(dataset, posts_dict):\n",
    "    for index, row in dataset.iterrows():\n",
    "        shortcode = row['url'].split(\"/\")[-2]\n",
    "        if shortcode in posts_dict:\n",
    "            dataset.at[index, 'likes count'] = posts_dict[shortcode].likes\n",
    "            \n",
    "    return dataset\n",
    "\n",
    "\n",
    "# Adds utc date to the dataset\n",
    "def add_date_utc(dataset, posts_dict):\n",
    "    for index, row in dataset.iterrows():\n",
    "        shortcode = row['url'].split('/')[-2]\n",
    "        if shortcode in posts_dict:\n",
    "            dataset.at[index, 'datum utc'] = posts_dict[shortcode].date_utc\n",
    "            \n",
    "    return dataset\n",
    "\n",
    "\n",
    "# Refreshes comment count\n",
    "def refresh_comment_count(dataset, posts_dict):\n",
    "    for index, row in dataset.iterrows():\n",
    "        shortcode = row['url'].split('/')[-2]\n",
    "        if shortcode in posts_dict:\n",
    "            dataset.at[index, 'discussielengte'] = posts_dict[shortcode].comments\n",
    "            \n",
    "    return dataset\n",
    "\n",
    "\n",
    "# Cleans invalid urls and enriches with like count, data utc and comment count\n",
    "def clean_und_enrich(dataset):\n",
    "    posts_dict = get_posts(dataset['url'])\n",
    "    indexes_to_drop = get_non_exsisting_posts(dataset, posts_dict)\n",
    "    dataset = del_posts(dataset, indexes_to_drop)\n",
    "    dataset = add_like_count_to_dataset(dataset, posts_dict)\n",
    "    dataset = add_date_utc(dataset, posts_dict)\n",
    "    dataset = refresh_comment_count(dataset, posts_dict)\n",
    "    \n",
    "    cprint('\\nInvalid urls found: ' + str(len(indexes_to_drop)))\n",
    "    \n",
    "    return dataset\n",
    "\n",
    "\n",
    "insta = clean_und_enrich(insta)\n",
    "\n",
    "# Resets index\n",
    "insta.index = range(len(insta))"
   ]
  },
  {
   "cell_type": "code",
   "execution_count": 14,
   "metadata": {},
   "outputs": [],
   "source": [
    "def remove_emoji(data):  \n",
    "    indexes_to_drop = []\n",
    "    for index, row in data.iterrows():\n",
    "        a = row['bericht tekst']\n",
    "\n",
    "        # todo: vul aan met meer emoji's\n",
    "        emoji_pattern = re.compile(\"[\"\n",
    "                          u\"\\U0001F600-\\U0001F64F\"  # emoticons\n",
    "                           u\"\\U0001F300-\\U0001F5FF\"  # symbols & pictographs\n",
    "                           u\"\\U0001F680-\\U0001F6FF\"  # transport & map symbols\n",
    "                           u\"\\U0001F1E0-\\U0001F1FF\"  # flags (iOS)\n",
    "                           u\"\\U00002702-\\U000027B0\"\n",
    "                           u\"\\U000024C2-\\U0001F251\"\n",
    "                               \"]+\", flags=re.UNICODE)\n",
    "        newValue = emoji_pattern.sub(r'', a)\n",
    "        if newValue == '' : \n",
    "            indexes_to_drop.append(newValue)\n",
    "        else:\n",
    "            data.at[index, 'bericht tekst'] = newValue\n",
    "            \n",
    "    return data\n",
    "\n",
    "insta = remove_emoji(insta)"
   ]
  },
  {
   "cell_type": "code",
   "execution_count": 15,
   "metadata": {},
   "outputs": [],
   "source": [
    "import numpy as np\n",
    "\n",
    "\n",
    "def improve_sentiment(dataset):\n",
    "    dataset['sentiment'] = dataset['sentiment'].replace(np.nan, '0')\n",
    "    \n",
    "    return dataset\n",
    "\n",
    "\n",
    "insta = improve_sentiment(insta)"
   ]
  },
  {
   "cell_type": "code",
   "execution_count": 16,
   "metadata": {},
   "outputs": [],
   "source": [
    "# output new cleaned dataset\n",
    "data = insta\n",
    "outputCSV(data, \"cleaned.csv\")"
   ]
  },
  {
   "cell_type": "code",
   "execution_count": 17,
   "metadata": {
    "collapsed": false
   },
   "outputs": [
    {
     "data": {
      "text/html": [
       "<div>\n",
       "<style scoped>\n",
       "    .dataframe tbody tr th:only-of-type {\n",
       "        vertical-align: middle;\n",
       "    }\n",
       "\n",
       "    .dataframe tbody tr th {\n",
       "        vertical-align: top;\n",
       "    }\n",
       "\n",
       "    .dataframe thead th {\n",
       "        text-align: right;\n",
       "    }\n",
       "</style>\n",
       "<table border=\"1\" class=\"dataframe\">\n",
       "  <thead>\n",
       "    <tr style=\"text-align: right;\">\n",
       "      <th></th>\n",
       "      <th>datum</th>\n",
       "      <th>url</th>\n",
       "      <th>sentiment</th>\n",
       "      <th>discussielengte</th>\n",
       "      <th>views</th>\n",
       "      <th>auteur</th>\n",
       "      <th>GPS breedtegraad</th>\n",
       "      <th>GPS lengtegraad</th>\n",
       "      <th>bericht tekst</th>\n",
       "      <th>likes count</th>\n",
       "      <th>datum utc</th>\n",
       "    </tr>\n",
       "  </thead>\n",
       "  <tbody>\n",
       "    <tr>\n",
       "      <th>0</th>\n",
       "      <td>2017-06-20 17:06</td>\n",
       "      <td>https://instagram.com/p/BVjjp3Cl4uK/</td>\n",
       "      <td>0</td>\n",
       "      <td>8.0</td>\n",
       "      <td>NaN</td>\n",
       "      <td>marusinalavka</td>\n",
       "      <td>NaN</td>\n",
       "      <td>NaN</td>\n",
       "      <td>@_korobo_  кстати хочу сказать, что коробочки ...</td>\n",
       "      <td>31.0</td>\n",
       "      <td>2017-06-20 09:00:29</td>\n",
       "    </tr>\n",
       "    <tr>\n",
       "      <th>1</th>\n",
       "      <td>2017-10-10 21:43</td>\n",
       "      <td>https://instagram.com/p/BaFFd0fBbcw/</td>\n",
       "      <td>0</td>\n",
       "      <td>62.0</td>\n",
       "      <td>NaN</td>\n",
       "      <td>artofobservance</td>\n",
       "      <td>NaN</td>\n",
       "      <td>NaN</td>\n",
       "      <td>So chic</td>\n",
       "      <td>3639.0</td>\n",
       "      <td>2017-10-10 19:36:27</td>\n",
       "    </tr>\n",
       "    <tr>\n",
       "      <th>2</th>\n",
       "      <td>2017-04-28 16:47</td>\n",
       "      <td>https://instagram.com/p/BTbF7AEDgHg/</td>\n",
       "      <td>0</td>\n",
       "      <td>1370.0</td>\n",
       "      <td>NaN</td>\n",
       "      <td>amigabali</td>\n",
       "      <td>NaN</td>\n",
       "      <td>NaN</td>\n",
       "      <td>Incredible</td>\n",
       "      <td>534004.0</td>\n",
       "      <td>2017-04-28 09:03:58</td>\n",
       "    </tr>\n",
       "    <tr>\n",
       "      <th>3</th>\n",
       "      <td>2017-08-30 17:43</td>\n",
       "      <td>https://instagram.com/p/BYa-vCWnF-U/</td>\n",
       "      <td>+</td>\n",
       "      <td>19.0</td>\n",
       "      <td>NaN</td>\n",
       "      <td>healthy.sneakers</td>\n",
       "      <td>NaN</td>\n",
       "      <td>NaN</td>\n",
       "      <td>😄😄👍</td>\n",
       "      <td>305.0</td>\n",
       "      <td>2017-08-30 14:38:09</td>\n",
       "    </tr>\n",
       "    <tr>\n",
       "      <th>4</th>\n",
       "      <td>2017-09-04 22:22</td>\n",
       "      <td>https://instagram.com/p/BYoVU-GFypi/</td>\n",
       "      <td>0</td>\n",
       "      <td>43.0</td>\n",
       "      <td>NaN</td>\n",
       "      <td>gpazminoyepez</td>\n",
       "      <td>NaN</td>\n",
       "      <td>NaN</td>\n",
       "      <td>@divaribas.82 aloe y fibern plus. Escribame 09...</td>\n",
       "      <td>2224.0</td>\n",
       "      <td>2017-09-04 19:05:41</td>\n",
       "    </tr>\n",
       "  </tbody>\n",
       "</table>\n",
       "</div>"
      ],
      "text/plain": [
       "<div>\n",
       "<style scoped>\n",
       "    .dataframe tbody tr th:only-of-type {\n",
       "        vertical-align: middle;\n",
       "    }\n",
       "\n",
       "    .dataframe tbody tr th {\n",
       "        vertical-align: top;\n",
       "    }\n",
       "\n",
       "    .dataframe thead th {\n",
       "        text-align: right;\n",
       "    }\n",
       "</style>\n",
       "<table border=\"1\" class=\"dataframe\">\n",
       "  <thead>\n",
       "    <tr style=\"text-align: right;\">\n",
       "      <th></th>\n",
       "      <th>datum</th>\n",
       "      <th>url</th>\n",
       "      <th>sentiment</th>\n",
       "      <th>discussielengte</th>\n",
       "      <th>views</th>\n",
       "      <th>auteur</th>\n",
       "      <th>GPS breedtegraad</th>\n",
       "      <th>GPS lengtegraad</th>\n",
       "      <th>bericht tekst</th>\n",
       "      <th>likes count</th>\n",
       "      <th>datum utc</th>\n",
       "    </tr>\n",
       "  </thead>\n",
       "  <tbody>\n",
       "    <tr>\n",
       "      <th>0</th>\n",
       "      <td>2017-06-20 17:06</td>\n",
       "      <td>https://instagram.com/p/BVjjp3Cl4uK/</td>\n",
       "      <td>0</td>\n",
       "      <td>8.0</td>\n",
       "      <td>NaN</td>\n",
       "      <td>marusinalavka</td>\n",
       "      <td>NaN</td>\n",
       "      <td>NaN</td>\n",
       "      <td>@_korobo_  кстати хочу сказать, что коробочки ...</td>\n",
       "      <td>31.0</td>\n",
       "      <td>2017-06-20 09:00:29</td>\n",
       "    </tr>\n",
       "    <tr>\n",
       "      <th>1</th>\n",
       "      <td>2017-10-10 21:43</td>\n",
       "      <td>https://instagram.com/p/BaFFd0fBbcw/</td>\n",
       "      <td>0</td>\n",
       "      <td>62.0</td>\n",
       "      <td>NaN</td>\n",
       "      <td>artofobservance</td>\n",
       "      <td>NaN</td>\n",
       "      <td>NaN</td>\n",
       "      <td>So chic</td>\n",
       "      <td>3639.0</td>\n",
       "      <td>2017-10-10 19:36:27</td>\n",
       "    </tr>\n",
       "    <tr>\n",
       "      <th>2</th>\n",
       "      <td>2017-04-28 16:47</td>\n",
       "      <td>https://instagram.com/p/BTbF7AEDgHg/</td>\n",
       "      <td>0</td>\n",
       "      <td>1370.0</td>\n",
       "      <td>NaN</td>\n",
       "      <td>amigabali</td>\n",
       "      <td>NaN</td>\n",
       "      <td>NaN</td>\n",
       "      <td>Incredible</td>\n",
       "      <td>534004.0</td>\n",
       "      <td>2017-04-28 09:03:58</td>\n",
       "    </tr>\n",
       "    <tr>\n",
       "      <th>3</th>\n",
       "      <td>2017-08-30 17:43</td>\n",
       "      <td>https://instagram.com/p/BYa-vCWnF-U/</td>\n",
       "      <td>+</td>\n",
       "      <td>19.0</td>\n",
       "      <td>NaN</td>\n",
       "      <td>healthy.sneakers</td>\n",
       "      <td>NaN</td>\n",
       "      <td>NaN</td>\n",
       "      <td>😄😄👍</td>\n",
       "      <td>305.0</td>\n",
       "      <td>2017-08-30 14:38:09</td>\n",
       "    </tr>\n",
       "    <tr>\n",
       "      <th>4</th>\n",
       "      <td>2017-09-04 22:22</td>\n",
       "      <td>https://instagram.com/p/BYoVU-GFypi/</td>\n",
       "      <td>0</td>\n",
       "      <td>43.0</td>\n",
       "      <td>NaN</td>\n",
       "      <td>gpazminoyepez</td>\n",
       "      <td>NaN</td>\n",
       "      <td>NaN</td>\n",
       "      <td>@divaribas.82 aloe y fibern plus. Escribame 09...</td>\n",
       "      <td>2224.0</td>\n",
       "      <td>2017-09-04 19:05:41</td>\n",
       "    </tr>\n",
       "  </tbody>\n",
       "</table>\n",
       "</div>"
      ]
     },
     "execution_count": 17,
     "metadata": {},
     "output_type": "execute_result"
    }
   ],
   "source": [
    "insta.head()"
   ]
  },
  {
   "cell_type": "code",
   "execution_count": 5,
   "metadata": {},
   "outputs": [],
   "source": []
  },
  {
   "cell_type": "code",
   "execution_count": 5,
   "metadata": {},
   "outputs": [],
   "source": []
  },
  {
   "cell_type": "code",
   "execution_count": 5,
   "metadata": {},
   "outputs": [],
   "source": []
  },
  {
   "cell_type": "code",
   "execution_count": 5,
   "metadata": {},
   "outputs": [],
   "source": []
  },
  {
   "cell_type": "code",
   "execution_count": 5,
   "metadata": {},
   "outputs": [],
   "source": []
  },
  {
   "cell_type": "code",
   "execution_count": 5,
   "metadata": {},
   "outputs": [],
   "source": []
  },
  {
   "cell_type": "code",
   "execution_count": 5,
   "metadata": {},
   "outputs": [],
   "source": []
  },
  {
   "cell_type": "code",
   "execution_count": null,
   "metadata": {},
   "outputs": [],
   "source": []
  }
 ],
 "metadata": {
  "kernelspec": {
   "display_name": "Python 3",
   "language": "python",
   "name": "python3"
  },
  "language_info": {
   "codemirror_mode": {
    "name": "ipython",
    "version": 3
   },
   "file_extension": ".py",
   "mimetype": "text/x-python",
   "name": "python",
   "nbconvert_exporter": "python",
   "pygments_lexer": "ipython3",
   "version": "3.6.5"
  }
 },
 "nbformat": 4,
 "nbformat_minor": 1
}
