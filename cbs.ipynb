{
 "cells": [
  {
   "cell_type": "markdown",
   "metadata": {
    "collapsed": true
   },
   "source": [
    "# CBS"
   ]
  },
  {
   "cell_type": "code",
   "execution_count": 3,
   "metadata": {},
   "outputs": [
    {
     "data": {
      "text/plain": [
       "datum               22\nurl                 22\nsentiment            6\ndiscussielengte     19\nviews                5\nauteur              22\nGPS breedtegraad     2\nGPS lengtegraad      2\nbericht tekst       22\ndtype: int64"
      ]
     },
     "execution_count": 3,
     "metadata": {},
     "output_type": "execute_result"
    }
   ],
   "source": [
    "import pandas as pd\n",
    "\n",
    "insta = pd.read_csv('./Coosto_berichten.csv', delimiter=';')\n",
    "insta = insta.drop(['zoekopdracht', 'type', 'volgers', 'invloed', 'titel', 'type bron'], \n",
    "           axis=1)\n",
    "insta.count()"
   ]
  },
  {
   "cell_type": "code",
   "execution_count": 6,
   "metadata": {},
   "outputs": [
    {
     "name": "stdout",
     "output_type": "stream",
     "text": [
      "Not valid urls found 3\n"
     ]
    },
    {
     "data": {
      "text/plain": [
       "datum               19\nurl                 19\nsentiment            5\ndiscussielengte     17\nviews                3\nauteur              19\nGPS breedtegraad     1\nGPS lengtegraad      1\nbericht tekst       19\ndtype: int64"
      ]
     },
     "execution_count": 6,
     "metadata": {},
     "output_type": "execute_result"
    }
   ],
   "source": [
    "import instaloader\n",
    "from instaloader import Post\n",
    "\n",
    "\n",
    "def post_exsists(url):\n",
    "    try:\n",
    "        L = instaloader.Instaloader()\n",
    "        Post.from_shortcode(L.context, url.split(\"/\")[-2])\n",
    "\n",
    "        return True\n",
    "    except:\n",
    "        return False\n",
    "\n",
    "\n",
    "indexes_to_drop = []\n",
    "\n",
    "for index, row in insta.iterrows():\n",
    "    if not post_exsists(row['url']):\n",
    "        indexes_to_drop.append(index)\n",
    "    pass\n",
    "\n",
    "print('Not valid urls found', len(indexes_to_drop))\n",
    "\n",
    "for index in indexes_to_drop:\n",
    "    insta = insta.drop(index=index, axis=0)\n",
    "\n",
    "insta.count()"
   ]
  },
  {
   "cell_type": "code",
   "execution_count": 5,
   "metadata": {},
   "outputs": [],
   "source": []
  },
  {
   "cell_type": "code",
   "execution_count": 5,
   "metadata": {},
   "outputs": [],
   "source": []
  },
  {
   "cell_type": "code",
   "execution_count": 5,
   "metadata": {},
   "outputs": [],
   "source": []
  },
  {
   "cell_type": "code",
   "execution_count": 5,
   "metadata": {},
   "outputs": [],
   "source": []
  },
  {
   "cell_type": "code",
   "execution_count": 5,
   "metadata": {},
   "outputs": [],
   "source": []
  },
  {
   "cell_type": "code",
   "execution_count": 5,
   "metadata": {},
   "outputs": [],
   "source": []
  },
  {
   "cell_type": "code",
   "execution_count": 5,
   "metadata": {},
   "outputs": [],
   "source": []
  },
  {
   "cell_type": "code",
   "execution_count": 5,
   "metadata": {},
   "outputs": [],
   "source": []
  },
  {
   "cell_type": "code",
   "execution_count": 5,
   "metadata": {},
   "outputs": [],
   "source": []
  },
  {
   "cell_type": "code",
   "execution_count": null,
   "metadata": {},
   "outputs": [],
   "source": []
  }
 ],
 "metadata": {
  "kernelspec": {
   "display_name": "Python 2",
   "language": "python",
   "name": "python2"
  },
  "language_info": {
   "codemirror_mode": {
    "name": "ipython",
    "version": 2
   },
   "file_extension": ".py",
   "mimetype": "text/x-python",
   "name": "python",
   "nbconvert_exporter": "python",
   "pygments_lexer": "ipython2",
   "version": "2.7.6"
  }
 },
 "nbformat": 4,
 "nbformat_minor": 0
}
