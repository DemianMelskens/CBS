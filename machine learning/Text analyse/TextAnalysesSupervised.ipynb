{
 "cells": [
  {
   "cell_type": "heading",
   "metadata": {},
   "level": 1,
   "source": [
    "The following code if for classifying text to clustores with supervised learning.\n",
    "The pandas reads the cleaned cbs file and creates a dataframe with column 0 as the text and column 1 as the classifier."
   ]
  },
  {
   "cell_type": "code",
   "execution_count": 12,
   "metadata": {},
   "outputs": [],
   "source": [
    "import pandas as pd\n",
    "import numpy as np\n",
    "import numpy as np\n",
    "from sklearn.model_selection import train_test_split\n",
    "from sklearn.pipeline import Pipeline\n",
    "from sklearn.feature_extraction.text import CountVectorizer\n",
    "from sklearn.feature_extraction.text import TfidfTransformer\n",
    "from sklearn.naive_bayes import MultinomialNB\n"
   ]
  },
  {
   "cell_type": "code",
   "execution_count": 65,
   "metadata": {},
   "outputs": [],
   "source": [
    "csv_path = '././data/'\n",
    "csv_file = 'cleaned3.csv'\n",
    "\n",
    "text_column = 13 #Needs to be the text\n",
    "lable_column = 13 #Needs to be the labels\n",
    "lable_column_name = 'hashtags'\n"
   ]
  },
  {
   "cell_type": "code",
   "execution_count": 66,
   "metadata": {},
   "outputs": [
    {
     "data": {
      "text/plain": [
       "0.02591283863368669"
      ]
     },
     "execution_count": 66,
     "metadata": {},
     "output_type": "execute_result"
    }
   ],
   "source": [
    "data = pd.read_csv(csv_path + csv_file, sep=';') \n",
    "\n",
    "numpy_array = data.values\n",
    "X = numpy_array[:,text_column] \n",
    "Y = data[lable_column_name]\n",
    "Z = numpy_array[:,lable_column] \n",
    "\n",
    "\n",
    "X_train, X_test, Y_train, Y_test = train_test_split(\n",
    " X, Z, test_size=0.4, random_state=42)\n",
    "\n",
    "\n",
    "\n",
    "text_clf = Pipeline([('vect', CountVectorizer(stop_words='english')),\n",
    " ('tfidf', TfidfTransformer()),\n",
    " ('clf', MultinomialNB()),\n",
    "])\n",
    "\n",
    "text_clf = text_clf.fit(X_train,Y_train)\n",
    "\n",
    "predicted = text_clf.predict(X_test)\n",
    "np.mean(predicted == Y_test)"
   ]
  },
  {
   "cell_type": "code",
   "execution_count": 67,
   "metadata": {},
   "outputs": [
    {
     "name": "stdout",
     "output_type": "stream",
     "text": [
      "0       ['dracula', 'escaperoom', 'escape', 'centrumos...\n1       ['parnassos', 'cultuurcentrum', 'utrecht', 'ut...\n2       ['samenmet', 'Inspiratie', 'AndereSportenBekij...\n3       ['natuurmonumenten', 'nature', 'naturephotogra...\n4       ['freizeitmesse', 'obelink', 'messe', 'freizei...\n5       ['iloveamsterdam', 'grachten', 'fietsen', 'aut...\n6       ['art', 'design', 'eindhoven', 'street', 'phot...\n7       ['ereklasse', 'rugbysaterday', 'rugbyday', 'pr...\n8               ['culinair', 'gastronomie', 'heerlijknl']\n9       ['heerhugowaard', 'waarderhout', 'relax', 'ont...\n10      ['amsterdamiloveyou', 'igersamsterdam', 'amste...\n11      ['bijnaopen', 'oso', 'koffie', 'coaching', 'bi...\n12                            ['trainingskamp', 'mierlo']\n13      ['Repost', 'Stoptober', 'stoptober', 'oktober'...\n14      ['teamplay', 'renaultdesignaward', '2017', 're...\n15      ['church', 'dutch', 'architecture', 'culture',...\n16      ['sterren', 'zanger', 'artiest', 'amsterdam', ...\n17      ['deathalley', 'lemmylives', 'motörhead', 'haw...\n18      ['kaasfondue', 'lekkerlangesliertenmaken', 'ha...\n19                                 ['margrietwinterfair']\n20      ['interior', 'interieur', 'home', 'styliste', ...\n21                                              ['liège']\n22      ['sneek', 'friesland', 'nederlandseluchten', '...\n23      ['Hillegersberg', 'expat', 'expat', 'expatriat...\n24      ['slecht', 'kut', 'rotmusical', 'cafe', 'nieuw...\n25      ['latindanceweek', 'UrbanKiz', 'breda', 'salsa...\n26      ['rogiersteyvers', 'rogiersteyversfotograaf', ...\n27       ['fiets', 'wijkbijduurstede', 'dijk', 'hashtag']\n28      ['beautifulplaces', 'dutch', 'architecturelove...\n29      ['paisesbajos', 'layover', 'discovering', 'hap...\n                              ...                        \n2092    ['vanharen', 'papendrecht', 'personeelsworksho...\n2093    ['volendam', 'netherlands', 'thenetherlands', ...\n2094    ['freizeitpark', 'photographer', 'photo', 'tra...\n2095    ['latergram', 'latergrams', 'sunsets', 'sunset...\n2096    ['visitamsterdam', 'amsterdam', 'igersamsterda...\n2097    ['veromoda', 'barneveld', 'detail', 'top', 'ko...\n2098    ['negenpleinenfestijn', 'efteling', 'kaatsheuv...\n2099    ['cecilemode', 'sisibruidshuis', 'denhaag', 't...\n2100    ['keizerlibel', 'keizerlibelle', 'libelle', 'l...\n2101    ['timeflies', 'indebuurtinwording', 'zwolle', ...\n2102    ['home', 'smallmakeover', 'maastricht', 'NL', ...\n2103    ['interessant', 'hva', 'belmae', 'amsterdam', ...\n2104    ['texel', 'vscotravel', 'vscoeurope', 'netherl...\n2105    ['SUPPORTSSURFACE', 'SEE', 'ddw', 'ontour', 'f...\n2106    ['aquarium', 'kunst', 'bowl', 'epoxy', 'fish',...\n2107     ['workmodeon', 'spannendetijden', 'mondayvibes']\n2108    ['damn', 'colour', 'home', 'house', 'amazed', ...\n2109    ['actie', 'actievandemaand', 'rijbewijs', 'rij...\n2110    ['netherlands', 'eindhoven', 'drive', 'itsawra...\n2111    ['2018', 'winkeltjevananne', 'theater', 'alkma...\n2112    ['aanpakringzuid', 'zuidelijkeringweg', 'voorb...\n2113    ['parkiet', 'vogel', 'flower', 'natuurfotograf...\n2114    ['homemade', 'apple', 'appleturnover', 'blogge...\n2115    ['music', 'trumpet', 'trombone', 'orchestra', ...\n2116    ['feyenoord', 'rotterdam', 'dekuip', 'feyenoor...\n2117    ['dollhouse', 'poppenhuis', 'tweedehands', 'vi...\n2118                  ['hardewerkers', 'hengelo', 'atc4']\n2119    ['WaarDenBoschEet', 'WDBE', 'deaspergewinkel',...\n2120    ['amsterdam', 'westerkerk', 'jordaan', 'love',...\n2121    ['tiny', 'miniature', 'town', 'holland', 'madu...\nName: hashtags, Length: 2122, dtype: object\n[\"['dracula', 'escaperoom', 'escape', 'centrumoss', 'oss']\"\n \"['parnassos', 'cultuurcentrum', 'utrecht', 'utrechtuniversity', 'universiteitutrecht', 'uitenduideijk']\"\n \"['samenmet', 'Inspiratie', 'AndereSportenBekijken']\" ...\n \"['WaarDenBoschEet', 'WDBE', 'deaspergewinkel', 'visstraat', 'brabant', 'asperges', 'denbosch', 'wittegoud', 'kraakvers', 'smullen', 'aspergeseizoen']\"\n \"['amsterdam', 'westerkerk', 'jordaan', 'love', 'church', 'tower', 'annefrank', 'iamsterdam', 'wanderlust', 'night']\"\n \"['tiny', 'miniature', 'town', 'holland', 'madurodam']\"]\n"
     ]
    }
   ],
   "source": [
    "print(Y)\n",
    "print(Z)"
   ]
  },
  {
   "cell_type": "code",
   "execution_count": null,
   "metadata": {},
   "outputs": [],
   "source": []
  }
 ],
 "metadata": {
  "kernelspec": {
   "display_name": "Python 2",
   "language": "python",
   "name": "python2"
  },
  "language_info": {
   "codemirror_mode": {
    "name": "ipython",
    "version": 2
   },
   "file_extension": ".py",
   "mimetype": "text/x-python",
   "name": "python",
   "nbconvert_exporter": "python",
   "pygments_lexer": "ipython2",
   "version": "2.7.6"
  }
 },
 "nbformat": 4,
 "nbformat_minor": 0
}
