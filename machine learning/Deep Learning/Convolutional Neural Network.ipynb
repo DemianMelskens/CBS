{
 "cells": [
  {
   "cell_type": "markdown",
   "metadata": {},
   "source": [
    "# Convolutional Neural Network\n",
    "\n",
    "make sure you have acces to the keras and tensorflow packages\n",
    "```pip install keras``` & ```pip install tensorflow```\n",
    "\n",
    "A Convolutional neural network is mainly used to categorize images. by copying the behavoir of the brain. the layers are capable of extracting features from images. CNN's have two components:\n",
    "1. The hidden layers / feature extraction\n",
    "2. The Classification layers\n",
    "\n",
    "<img src=\"./images/architecture.png\">\n",
    "\n",
    "### Sources\n",
    "[https://medium.freecodecamp.org/an-intuitive-guide-to-convolutional-neural-networks-260c2de0a050](https://medium.freecodecamp.org/an-intuitive-guide-to-convolutional-neural-networks-260c2de0a050)\n",
    "\n",
    "[https://keras.io/layers/convolutional/#conv2d](https://keras.io/layers/convolutional/#conv2d)"
   ]
  },
  {
   "cell_type": "code",
   "execution_count": 22,
   "metadata": {},
   "outputs": [],
   "source": [
    "# Helper libraries\n",
    "import numpy as np\n",
    "import matplotlib.pyplot as plt\n",
    "\n",
    "\n",
    "import keras\n",
    "from keras.models import Sequential,Input,Model\n",
    "from keras.layers import Dense, Flatten, Activation\n",
    "from keras.layers import Conv2D, MaxPooling2D\n",
    "from keras.layers.normalization import BatchNormalization\n",
    "from keras.layers.advanced_activations import LeakyReLU\n",
    "\n",
    "batch_size = 64\n",
    "epochs = 20\n",
    "num_classes = 10\n",
    "\n",
    "# Setup the model\n",
    "model = Sequential()"
   ]
  },
  {
   "cell_type": "markdown",
   "metadata": {},
   "source": [
    "## Enable GPU Acceleration\n",
    "Before we go any further we have to make sure we have libraries for gpu acceleration because this will speed up our processes allot.\n",
    "At this point it is only possible for NVidia GPU's to use this tech because AMD GPU's don't support CUDA\n",
    "\n",
    "```pip install tensorflow-gpu```\n",
    "\n",
    "### this function is not working yet!!"
   ]
  },
  {
   "cell_type": "code",
   "execution_count": 73,
   "metadata": {},
   "outputs": [
    {
     "name": "stdout",
     "output_type": "stream",
     "text": [
      "[name: \"/device:CPU:0\"\n",
      "device_type: \"CPU\"\n",
      "memory_limit: 268435456\n",
      "locality {\n",
      "}\n",
      "incarnation: 12201453095657215374\n",
      "]\n"
     ]
    }
   ],
   "source": [
    "# Verify that tensorflow and keras are running with GPU\n",
    "from tensorflow.python.client import device_lib\n",
    "from keras import backend as K\n",
    "\n",
    "print(device_lib.list_local_devices())\n",
    "K.tensorflow_backend._get_available_gpus()\n",
    "\n",
    "import os\n",
    "os.environ[\"CUDA_VISIBLE_DEVICES\"]=\"0\""
   ]
  },
  {
   "cell_type": "markdown",
   "metadata": {},
   "source": [
    "# Hidden layers / Feature extraction\n",
    "## Conv2D Layer\n",
    "This layer creates a convolution kernel that is convolved with the layer input to produce a tensor of outputs. If ```use_bias``` is True, a bias vector is created and added to the outputs. Finally, if ```activation``` is not ```None```, it is applied to the outputs as well.\n",
    "\n",
    "When using this layer as the first layer in a model, provide the keyword argument  \n",
    "```input_shape ``` (tuple of integers, does not include the sample axis), e.g.  \n",
    "```input_shape=(128, 128, 3)``` for 128x128 RGB pictures in  \n",
    "```data_format=\"channels_last\".```\n",
    "\n",
    "<img src=\"./images/conv2d.png\">\n",
    "\n",
    "### Arguments\n",
    "* __filters__: Integer, the dimensionality of the output space (i.e. the number of output filters in the convolution).\n",
    "* __kernel_size__: An integer or tuple/list of 2 integers, specifying the height and width of the 2D convolution window. Can be a single integer to specify the same value for all spatial dimensions.\n",
    "* __strides__: An integer or tuple/list of 2 integers, specifying the strides of the convolution along the height and width. Can be a single integer to specify the same value for all spatial dimensions. Specifying any stride value != 1 is incompatible with specifying any ```dilation_rate``` value != 1.\n",
    "* __padding__: one of ```\"valid\"``` or ```\"same\"``` (case-insensitive). Note that ```\"same\"``` is slightly inconsistent across backends with  strides != 1.\n",
    "* __data_format__: A string, one of ```\"channels_last\"``` or ```\"channels_first\"```. The ordering of the dimensions in the inputs.  ```\"channels_last\"``` corresponds to inputs with shape ```(batch, height, width, channels)``` while  ```\"channels_first\"``` corresponds to inputs with shape ```(batch, channels, height, width)```. It defaults to the  ```image_data_format``` value found in your Keras config file at ```~/.keras/keras.json.``` If you never set it, then it will be \"channels_last\".\n",
    "* __dilation_rate__: an integer or tuple/list of 2 integers, specifying the dilation rate to use for dilated convolution. Can be a single integer to specify the same value for all spatial dimensions. Currently, specifying any ```dilation_rate value``` != 1 is incompatible with specifying any stride value != 1.\n",
    "* __activation__: Activation function to use. If you don't specify anything, no activation is applied (ie. \"linear\" activation: ```a(x) = x```).\n",
    "* __use_bias__: Boolean, whether the layer uses a bias vector.\n",
    "* __kernel_initializer__: Initializer for the ```kernel``` weights matrix.\n",
    "* __bias_initializer__: Initializer for the bias vector.\n",
    "* __kernel_regularizer__: Regularizer function applied to the ```kernel``` weights matrix.\n",
    "* __bias_regularizer__: Regularizer function applied to the bias vector.\n",
    "* __activity_regularizer__: Regularizer function applied to the output of the layer (its \"activation\").\n",
    "* __kernel_constraint__: Constraint function applied to the kernel matrix.\n",
    "* __bias_constraint__: Constraint function applied to the bias vector."
   ]
  },
  {
   "cell_type": "code",
   "execution_count": 24,
   "metadata": {},
   "outputs": [],
   "source": [
    "# Images fed into this model are 512x512 pixels with 3 channels (RGB)\n",
    "image_input_shape  = (512,512,3)\n",
    "\n",
    "# Add convolutional layer with 3x3x3 filter 32 times and a stride size of 1\n",
    "model.add(Conv2D(32, kernel_size=(3, 3),activation='linear',input_shape=image_input_shape,padding='same'))"
   ]
  },
  {
   "cell_type": "markdown",
   "metadata": {},
   "source": [
    "## Activation Layer _(ReLU Layer)_\n",
    "\n",
    "Rectified Linear Unit.\n",
    "\n",
    "<img src=\"./images/relu.png\">\n",
    "\n",
    "With default values, it returns element-wise ```max(x, 0)```.\n",
    "\n",
    "Otherwise, it follows: ```f(x) = max_value``` for ```x >= max_value```, ```f(x) = x``` for ```threshold <= x < max_value, f(x) = alpha * (x - threshold)``` otherwise.\n",
    "\n",
    "### Arguments\n",
    "\n",
    "* __activation__: name of activation function to use, or alternatively, a Theano or TensorFlow operation."
   ]
  },
  {
   "cell_type": "code",
   "execution_count": 25,
   "metadata": {},
   "outputs": [],
   "source": [
    "# Add relu activation to the layer \n",
    "model.add(Activation('relu'))"
   ]
  },
  {
   "cell_type": "markdown",
   "metadata": {},
   "source": [
    "## Pooling Layer\n",
    "\n",
    "Max pooling operation for spatial data.\n",
    "Pooling is a non linear form of downsizing.\n",
    "Max pooling takes the max value from a certain range and drop all others as seen in de image below.\n",
    "\n",
    "<img src=\"./images/pooling.png\">\n",
    "\n",
    "### Arguments\n",
    "\n",
    "* __pool_size__: integer or tuple of 2 integers, factors by which to downscale (vertical, horizontal). (2, 2) will halve the input in both spatial dimension. If only one integer is specified, the same window length will be used for both dimensions.\n",
    "* __strides__: Integer, tuple of 2 integers, or None. Strides values. If None, it will default to ```pool_size```.\n",
    "* __padding__: One of ```\"valid\"``` or ```\"same\"``` (case-insensitive).\n",
    "* __data_format__: A string, one of ```channels_last``` (default) or ```channels_first```. The ordering of the dimensions in the inputs.  ```channels_last``` corresponds to inputs with shape  ```(batch, height, width, channels)``` while ```channels_first``` corresponds to inputs with shape  ```(batch, channels, height, width)```. It defaults to the  ```image_data_format``` value found in your Keras config file at ```~/.keras/keras.json```. If you never set it, then it will be \"channels_last\"."
   ]
  },
  {
   "cell_type": "code",
   "execution_count": 26,
   "metadata": {},
   "outputs": [],
   "source": [
    "#Pooling\n",
    "model.add(MaxPooling2D(2))"
   ]
  },
  {
   "cell_type": "markdown",
   "metadata": {},
   "source": [
    "# Classification Layers\n",
    "## Flatten Layer\n",
    "\n",
    "Flattens the input. Does not affect the batch size.\n",
    "\n",
    "<img src=\"./images/flatten.png\">\n",
    "\n",
    "### Arguments\n",
    "\n",
    "* __data_format__: A string, one of ```channels_last``` (default) or ```channels_first```. The ordering of the dimensions in the inputs. The purpose of this argument is to preserve weight ordering when switching a model from one data format to another.  ```channels_last``` corresponds to inputs with shape  ```(batch, ..., channels)``` while  ```channels_first``` corresponds to inputs with shape ```(batch, channels, ...)```. It defaults to the ```image_data_format``` value found in your Keras config file at  ```~/.keras/keras.json```. If you never set it, then it will be \"channels_last\".\n",
    "\n",
    "### Example\n",
    "\n",
    "```Python\n",
    "model = Sequential()\n",
    "model.add(Conv2D(64, (3, 3),\n",
    "                 input_shape=(3, 32, 32), padding='same',))\n",
    "# now: model.output_shape == (None, 64, 32, 32)\n",
    "\n",
    "model.add(Flatten())\n",
    "# now: model.output_shape == (None, 65536)\n",
    "```"
   ]
  },
  {
   "cell_type": "code",
   "execution_count": 27,
   "metadata": {},
   "outputs": [],
   "source": [
    "# Use Flatten to convert 3D data to 1D\n",
    "model.add(Flatten())"
   ]
  },
  {
   "cell_type": "markdown",
   "metadata": {},
   "source": [
    "## Dense Layers\n",
    "\n",
    "Just your regular densely-connected NN layer.\n",
    "\n",
    "```Dense``` implements the operation: ```output = activation(dot(input, kernel) + bias)``` where ```activation``` is the element-wise activation function passed as the ```activation``` argument, ```kernel``` is a weights matrix created by the layer, and ```bias``` is a bias vector created by the layer (only applicable if ```use_bias``` is ```True```).\n",
    "\n",
    "```Dense``` is the only actual network layer in that model.\n",
    "\n",
    "```Dense``` layer feeds all outputs from the previous layer to all its neurons, each neuron providing one output to the next layer.\n",
    "\n",
    "It's the most basic layer in neural networks.\n",
    "\n",
    "```Dense(10)``` has ten neurons. A ```Dense(512)``` has 512 neurons.\n",
    "\n",
    "Note: if the input to the layer has a rank greater than 2, then it is flattened prior to the initial dot product with ```kernel```.\n",
    "\n",
    "### Arguments\n",
    "\n",
    "* __units__: Positive integer, dimensionality of the output space.\n",
    "* __activation__: Activation function to use (see activations). If you don't specify anything, no activation is applied (ie. \"linear\" activation: ```a(x) = x)```.\n",
    "* __use_bias__: Boolean, whether the layer uses a bias vector.\n",
    "* __kernel_initializer__: Initializer for the ```kernel``` weights matrix.\n",
    "* __bias_initializer__: Initializer for the bias vector.\n",
    "* __kernel_regularizer__: Regularizer function applied to the ```kernel``` weights matrix.\n",
    "* __bias_regularizer__: Regularizer function applied to the bias vector.\n",
    "* __activity_regularizer__: Regularizer function applied to the output of the layer (its \"activation\").\n",
    "* __kernel_constraint__: Constraint function applied to the ```kernel``` weights matrix.\n",
    "* __bias_constraint__: Constraint function applied to the bias vector.\n",
    "\n",
    "### Example\n",
    "```Python\n",
    "# as first layer in a sequential model:\n",
    "model = Sequential()\n",
    "model.add(Dense(32, input_shape=(16,)))\n",
    "# now the model will take as input arrays of shape (*, 16)\n",
    "# and output arrays of shape (*, 32)\n",
    "\n",
    "# after the first layer, you don't need to specify\n",
    "# the size of the input anymore:\n",
    "model.add(Dense(32))\n",
    "```"
   ]
  },
  {
   "cell_type": "code",
   "execution_count": 28,
   "metadata": {},
   "outputs": [],
   "source": [
    "# Add dense layer with 10 neurons\n",
    "model.add(Dense(10))"
   ]
  },
  {
   "cell_type": "markdown",
   "metadata": {},
   "source": [
    "## Activation Layer (Softmax Layer)\n",
    "\n",
    "Softmax activation function.\n",
    "\n",
    "<img src=\"./images/softmax.png\">\n",
    "\n",
    "produces just the result of applying the softmax function to an input tensor. The softmax \"squishes\" the inputs so that ```sum(input) = 1;``` it's a way of normalizing. The shape of output of a softmax is the same as the input - it just normalizes the values. The outputs of softmax can be interpreted as probabilities.\n",
    "\n",
    "### Arguments\n",
    "\n",
    "* __activation__: name of activation function to use, or alternatively, a Theano or TensorFlow operation."
   ]
  },
  {
   "cell_type": "code",
   "execution_count": 29,
   "metadata": {},
   "outputs": [],
   "source": [
    "# we use the softmax activation function for our last layer\n",
    "model.add(Activation('softmax'))"
   ]
  },
  {
   "cell_type": "code",
   "execution_count": 30,
   "metadata": {},
   "outputs": [
    {
     "name": "stdout",
     "output_type": "stream",
     "text": [
      "_________________________________________________________________\n",
      "Layer (type)                 Output Shape              Param #   \n",
      "=================================================================\n",
      "conv2d_2 (Conv2D)            (None, 512, 512, 32)      896       \n",
      "_________________________________________________________________\n",
      "activation_3 (Activation)    (None, 512, 512, 32)      0         \n",
      "_________________________________________________________________\n",
      "max_pooling2d_2 (MaxPooling2 (None, 256, 256, 32)      0         \n",
      "_________________________________________________________________\n",
      "flatten_2 (Flatten)          (None, 2097152)           0         \n",
      "_________________________________________________________________\n",
      "dense_2 (Dense)              (None, 10)                20971530  \n",
      "_________________________________________________________________\n",
      "activation_4 (Activation)    (None, 10)                0         \n",
      "=================================================================\n",
      "Total params: 20,972,426\n",
      "Trainable params: 20,972,426\n",
      "Non-trainable params: 0\n",
      "_________________________________________________________________\n"
     ]
    }
   ],
   "source": [
    "# give an overview of our model\n",
    "model.summary()"
   ]
  },
  {
   "cell_type": "markdown",
   "metadata": {},
   "source": [
    "# Training\n",
    "\n",
    "Training a CNN works in the same way as a regular neural network, using backpropagration or gradient descent. However, here this is a bit more mathematically complex because of the convolution operations."
   ]
  },
  {
   "cell_type": "code",
   "execution_count": 12,
   "metadata": {},
   "outputs": [],
   "source": [
    "# Before the training process, we have to put together a learning process in a particular form. \n",
    "# It consists of 3 elements: an optimiser, a loss function and a metric.\n",
    "\n",
    "model.compile(loss=keras.losses.categorical_crossentropy, optimizer=keras.optimizers.Adam(),metrics=['accuracy'])"
   ]
  },
  {
   "cell_type": "markdown",
   "metadata": {},
   "source": [
    "# Testing with sample dataset"
   ]
  },
  {
   "cell_type": "code",
   "execution_count": 35,
   "metadata": {},
   "outputs": [
    {
     "name": "stdout",
     "output_type": "stream",
     "text": [
      "1.11.0\n"
     ]
    }
   ],
   "source": [
    "# TensorFlow and tf.keras\n",
    "import tensorflow as tf\n",
    "from tensorflow import keras\n",
    "\n",
    "# Helper libraries\n",
    "import numpy as np\n",
    "import matplotlib.pyplot as plt\n",
    "\n",
    "print(tf.__version__)"
   ]
  },
  {
   "cell_type": "markdown",
   "metadata": {},
   "source": [
    "## Load Dataset\n",
    "\n",
    "in this instance we will use the fashion dataset from the tensorflow tutorials\n",
    "[https://www.tensorflow.org/tutorials/keras/basic_classification](https://www.tensorflow.org/tutorials/keras/basic_classification)"
   ]
  },
  {
   "cell_type": "code",
   "execution_count": 96,
   "metadata": {},
   "outputs": [],
   "source": [
    "# dataset import\n",
    "fashion_mnist = keras.datasets.fashion_mnist\n",
    "\n",
    "(train_images, train_labels), (test_images, test_labels) = fashion_mnist.load_data()\n",
    "train_data = train_images\n",
    "test_data = test_images\n",
    "\n",
    "# labels for end results\n",
    "class_names = ['T-shirt/top', 'Trouser', 'Pullover', 'Dress', 'Coat', \n",
    "               'Sandal', 'Shirt', 'Sneaker', 'Bag', 'Ankle boot']"
   ]
  },
  {
   "cell_type": "code",
   "execution_count": 83,
   "metadata": {},
   "outputs": [
    {
     "data": {
      "image/png": "[encoded data removed]",
      "text/plain": [
       "<Figure size 432x288 with 2 Axes>"
      ]
     },
     "metadata": {},
     "output_type": "display_data"
    }
   ],
   "source": [
    "plt.figure()\n",
    "plt.imshow(train_images[0])\n",
    "plt.colorbar()\n",
    "plt.grid(False)"
   ]
  },
  {
   "cell_type": "markdown",
   "metadata": {},
   "source": [
    "## Preproccesing the data\n",
    "\n",
    "We scale these values to a range of 0 to 1 before feeding to the neural network model. For this, cast the datatype of the image components from an integer to a float, and divide by 255. Here's the function to preprocess the images:\n",
    "\n",
    "It's important that the training set and the testing set are preprocessed in the same way:"
   ]
  },
  {
   "cell_type": "code",
   "execution_count": 84,
   "metadata": {},
   "outputs": [
    {
     "data": {
      "image/png": "[encoded data removed]",
      "text/plain": [
       "<Figure size 720x720 with 25 Axes>"
      ]
     },
     "metadata": {},
     "output_type": "display_data"
    }
   ],
   "source": [
    "plt.figure(figsize=(10,10))\n",
    "for i in range(25):\n",
    "    plt.subplot(5,5,i+1)\n",
    "    plt.xticks([])\n",
    "    plt.yticks([])\n",
    "    plt.grid(False)\n",
    "    plt.imshow(train_images[i], cmap=plt.cm.binary)\n",
    "    plt.xlabel(class_names[train_labels[i]])"
   ]
  },
  {
   "cell_type": "code",
   "execution_count": 97,
   "metadata": {},
   "outputs": [
    {
     "name": "stdout",
     "output_type": "stream",
     "text": [
      "Train data\n",
      "(60000, 28, 28, 1)\n",
      "60000\n",
      "[9 0 0 ... 3 0 5]\n",
      "\n",
      "Test data\n",
      "(10000, 28, 28, 1)\n",
      "10000\n",
      "[9 2 1 ... 8 1 5]\n"
     ]
    }
   ],
   "source": [
    "train_images = train_images.reshape(-1, 28, 28, 1)\n",
    "test_images = test_images.reshape(-1, 28, 28, 1)\n",
    "\n",
    "# exploring the train data\n",
    "print('Train data')\n",
    "print(train_images.shape)\n",
    "print(len(train_labels))\n",
    "print(train_labels)\n",
    "\n",
    "# exploring the test data\n",
    "print('\\nTest data')\n",
    "print(test_images.shape)\n",
    "print(len(test_labels))\n",
    "print(test_labels)"
   ]
  },
  {
   "cell_type": "markdown",
   "metadata": {},
   "source": [
    "## Building test model"
   ]
  },
  {
   "cell_type": "code",
   "execution_count": 88,
   "metadata": {},
   "outputs": [],
   "source": [
    "# Setup the model\n",
    "model = keras.Sequential([\n",
    "    # convolutional layers\n",
    "    keras.layers.Conv2D(40, kernel_size=5, padding=\"same\", input_shape=(28,28,1), activation=tf.nn.relu),\n",
    "    keras.layers.Conv2D(50, kernel_size=5, padding=\"valid\", activation=tf.nn.relu),\n",
    "    keras.layers.MaxPool2D(pool_size=(2,2), strides=(2,2)),\n",
    "    keras.layers.Dropout(0.2),\n",
    "    keras.layers.Conv2D(70, kernel_size=3, padding=\"same\", activation=tf.nn.relu),\n",
    "    keras.layers.MaxPool2D(pool_size=(2,2), strides=(2,2)),\n",
    "    keras.layers.Conv2D(100, kernel_size=3, padding=\"valid\", activation=tf.nn.relu),\n",
    "    keras.layers.MaxPool2D(pool_size=(2,2), strides=(2,2)),\n",
    "    \n",
    "    # hidden layers\n",
    "    keras.layers.Flatten(),\n",
    "    keras.layers.Dense(100, activation=tf.nn.relu),\n",
    "    keras.layers.Dropout(0.2),\n",
    "    keras.layers.Dense(10, activation=tf.nn.softmax)\n",
    "])\n",
    "\n",
    "# compile the model\n",
    "model.compile(optimizer=tf.train.AdamOptimizer(), \n",
    "              loss='sparse_categorical_crossentropy',\n",
    "              metrics=['accuracy'])"
   ]
  },
  {
   "cell_type": "code",
   "execution_count": 89,
   "metadata": {},
   "outputs": [
    {
     "name": "stdout",
     "output_type": "stream",
     "text": [
      "Epoch 1/5\n",
      "60000/60000 [==============================] - 217s 4ms/step - loss: 0.9723 - acc: 0.7858\n",
      "Epoch 2/5\n",
      "60000/60000 [==============================] - 216s 4ms/step - loss: 0.3548 - acc: 0.8705\n",
      "Epoch 3/5\n",
      "60000/60000 [==============================] - 216s 4ms/step - loss: 0.3182 - acc: 0.8833\n",
      "Epoch 4/5\n",
      "60000/60000 [==============================] - 216s 4ms/step - loss: 0.2998 - acc: 0.8892\n",
      "Epoch 5/5\n",
      "60000/60000 [==============================] - 215s 4ms/step - loss: 0.2879 - acc: 0.8944\n"
     ]
    },
    {
     "data": {
      "text/plain": [
       "<tensorflow.python.keras.callbacks.History at 0x2e72a009710>"
      ]
     },
     "execution_count": 89,
     "metadata": {},
     "output_type": "execute_result"
    }
   ],
   "source": [
    "# train the model\n",
    "model.fit(train_images, train_labels, epochs=5)"
   ]
  },
  {
   "cell_type": "code",
   "execution_count": 90,
   "metadata": {},
   "outputs": [
    {
     "name": "stdout",
     "output_type": "stream",
     "text": [
      "10000/10000 [==============================] - 13s 1ms/step\n",
      "Test accuracy: 0.885\n"
     ]
    }
   ],
   "source": [
    "# evaluate accuracy\n",
    "test_loss, test_acc = model.evaluate(test_images, test_labels)\n",
    "\n",
    "print('Test accuracy:', test_acc)"
   ]
  },
  {
   "cell_type": "markdown",
   "metadata": {},
   "source": [
    "## predictions\n",
    "\n",
    "the prediction score describes the confidence of the model that the image corresponds to each of the 10 different articles of clothing"
   ]
  },
  {
   "cell_type": "code",
   "execution_count": 91,
   "metadata": {},
   "outputs": [
    {
     "data": {
      "text/plain": [
       "array([9.2671817e-09, 2.2568616e-07, 1.8614013e-08, 4.8460986e-08,\n",
       "       6.6246617e-09, 8.1616687e-03, 2.3838494e-08, 4.8883343e-03,\n",
       "       2.9975586e-09, 9.8694962e-01], dtype=float32)"
      ]
     },
     "execution_count": 91,
     "metadata": {},
     "output_type": "execute_result"
    }
   ],
   "source": [
    "# make predictions\n",
    "predictions = model.predict(test_images)\n",
    "\n",
    "predictions[0]"
   ]
  },
  {
   "cell_type": "markdown",
   "metadata": {},
   "source": [
    "## Helper functions\n",
    "\n",
    "these functions help visualize and check correct predictions"
   ]
  },
  {
   "cell_type": "code",
   "execution_count": 92,
   "metadata": {},
   "outputs": [],
   "source": [
    "def plot_image(i, predictions_array, true_label, img):\n",
    "  predictions_array, true_label, img = predictions_array[i], true_label[i], img[i]\n",
    "  plt.grid(False)\n",
    "  plt.xticks([])\n",
    "  plt.yticks([])\n",
    "  \n",
    "  plt.imshow(img, cmap=plt.cm.binary)\n",
    "\n",
    "  predicted_label = np.argmax(predictions_array)\n",
    "  if predicted_label == true_label:\n",
    "    color = 'blue'\n",
    "  else:\n",
    "    color = 'red'\n",
    "  \n",
    "  plt.xlabel(\"{} {:2.0f}% ({})\".format(class_names[predicted_label],\n",
    "                                100*np.max(predictions_array),\n",
    "                                class_names[true_label]),\n",
    "                                color=color)\n",
    "\n",
    "def plot_value_array(i, predictions_array, true_label):\n",
    "  predictions_array, true_label = predictions_array[i], true_label[i]\n",
    "  plt.grid(False)\n",
    "  plt.xticks([])\n",
    "  plt.yticks([])\n",
    "  thisplot = plt.bar(range(10), predictions_array, color=\"#777777\")\n",
    "  plt.ylim([0, 1]) \n",
    "  predicted_label = np.argmax(predictions_array)\n",
    " \n",
    "  thisplot[predicted_label].set_color('red')\n",
    "  thisplot[true_label].set_color('blue')"
   ]
  },
  {
   "cell_type": "code",
   "execution_count": 98,
   "metadata": {},
   "outputs": [
    {
     "data": {
      "image/png": "[encoded data removed]",
      "text/plain": [
       "<Figure size 432x216 with 2 Axes>"
      ]
     },
     "metadata": {},
     "output_type": "display_data"
    }
   ],
   "source": [
    "i = 0\n",
    "plt.figure(figsize=(6,3))\n",
    "plt.subplot(1,2,1)\n",
    "plot_image(i, predictions, test_labels, test_data)\n",
    "plt.subplot(1,2,2)\n",
    "plot_value_array(i, predictions,  test_labels)"
   ]
  },
  {
   "cell_type": "code",
   "execution_count": 99,
   "metadata": {},
   "outputs": [
    {
     "data": {
      "image/png": "[encoded data removed]",
      "text/plain": [
       "<Figure size 432x216 with 2 Axes>"
      ]
     },
     "metadata": {},
     "output_type": "display_data"
    }
   ],
   "source": [
    "i = 12\n",
    "plt.figure(figsize=(6,3))\n",
    "plt.subplot(1,2,1)\n",
    "plot_image(i, predictions, test_labels, test_data)\n",
    "plt.subplot(1,2,2)\n",
    "plot_value_array(i, predictions,  test_labels)"
   ]
  },
  {
   "cell_type": "code",
   "execution_count": 48,
   "metadata": {},
   "outputs": [
    {
     "data": {
      "image/png": "[encoded data removed]",
      "text/plain": [
       "<Figure size 864x720 with 30 Axes>"
      ]
     },
     "metadata": {},
     "output_type": "display_data"
    }
   ],
   "source": [
    "num_rows = 5\n",
    "num_cols = 3\n",
    "num_images = num_rows*num_cols\n",
    "plt.figure(figsize=(2*2*num_cols, 2*num_rows))\n",
    "for i in range(num_images):\n",
    "  plt.subplot(num_rows, 2*num_cols, 2*i+1)\n",
    "  plot_image(i, predictions, test_labels, test_images)\n",
    "  plt.subplot(num_rows, 2*num_cols, 2*i+2)\n",
    "  plot_value_array(i, predictions, test_labels)"
   ]
  },
  {
   "cell_type": "markdown",
   "metadata": {},
   "source": [
    "## Use of trained model"
   ]
  },
  {
   "cell_type": "code",
   "execution_count": 100,
   "metadata": {},
   "outputs": [
    {
     "name": "stdout",
     "output_type": "stream",
     "text": [
      "(28, 28, 1)\n",
      "(1, 28, 28, 1)\n",
      "[[9.2671817e-09 2.2568595e-07 1.8614049e-08 4.8461079e-08 6.6246617e-09\n",
      "  8.1616761e-03 2.3838494e-08 4.8883273e-03 2.9975586e-09 9.8694962e-01]]\n"
     ]
    },
    {
     "data": {
      "text/plain": [
       "9"
      ]
     },
     "execution_count": 100,
     "metadata": {},
     "output_type": "execute_result"
    },
    {
     "data": {
      "image/png": "[encoded data removed]",
      "text/plain": [
       "<Figure size 432x288 with 1 Axes>"
      ]
     },
     "metadata": {},
     "output_type": "display_data"
    }
   ],
   "source": [
    "# Grab an image from the test dataset\n",
    "img = test_images[0]\n",
    "\n",
    "print(img.shape)\n",
    "\n",
    "# Add the image to a batch where it's the only member.\n",
    "img = (np.expand_dims(img,0))\n",
    "\n",
    "print(img.shape)\n",
    "\n",
    "predictions_single = model.predict(img)\n",
    "\n",
    "print(predictions_single)\n",
    "\n",
    "plot_value_array(0, predictions_single, test_labels)\n",
    "_ = plt.xticks(range(10), class_names, rotation=45)\n",
    "\n",
    "np.argmax(predictions_single[0])"
   ]
  },
  {
   "cell_type": "code",
   "execution_count": null,
   "metadata": {},
   "outputs": [],
   "source": []
  }
 ],
 "metadata": {
  "kernelspec": {
   "display_name": "Python 3",
   "language": "python",
   "name": "python3"
  },
  "language_info": {
   "codemirror_mode": {
    "name": "ipython",
    "version": 3
   },
   "file_extension": ".py",
   "mimetype": "text/x-python",
   "name": "python",
   "nbconvert_exporter": "python",
   "pygments_lexer": "ipython3",
   "version": "3.6.5"
  }
 },
 "nbformat": 4,
 "nbformat_minor": 2
}
