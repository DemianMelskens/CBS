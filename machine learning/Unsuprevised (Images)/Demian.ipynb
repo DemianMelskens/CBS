{
 "cells": [
  {
   "cell_type": "code",
   "execution_count": 1,
   "metadata": {},
   "outputs": [],
   "source": [
    "import numpy as np\n",
    "import sklearn as sk\n",
    "import matplotlib\n",
    "import matplotlib.pyplot as plt"
   ]
  },
  {
   "cell_type": "markdown",
   "metadata": {},
   "source": [
    "# Unsuprevised Learning\n",
    "\n",
    "## Clustering of images\n",
    "\n",
    "for the project it is essential that we categorize images for this we first need to see if we can learn the pc which image belongs to which category\n",
    "\n",
    "before we can do this there has to be defined what is a category and create a training set out of certain images."
   ]
  },
  {
   "cell_type": "markdown",
   "metadata": {},
   "source": [
    "## Clustering methods in sklearn\n",
    "\n",
    "|Method name|Parameters|Scalability|Usecase|Geometry (metric used)|\n",
    "|-----------|----------|-----------|-------|----------------------|\n",
    "|K-Means|number of clusters|Very large n_samples, medium n_clusters withMiniBatch code|General-purpose, even cluster size, flat geometry, not too many clusters|Distances between points|\n",
    "|Affinity propagation|damping, sample preference|Not scalable with n_samples|Many clusters, uneven cluster size, non-flat geometry|Graph distance (e.g. nearest-neighbor graph)|\n",
    "|Mean-shift|bandwidth|Not scalable with n_samples|Many clusters, uneven cluster size, non-flat geometry|Distances between points|\n",
    "|Spectral clustering|number of clusters|Medium n_samples, small n_clusters|Few clusters, even cluster size, non-flat geometry|Graph distance (e.g. nearest-neighbor graph)|\n",
    "|Ward hierarchical clustering|number of clusters|Large n_samples and n_clusters|Many clusters, possibly connectivity constraints|Distances between points|\n",
    "|Agglomerative clustering|number of clusters, linkage type, distance|Large n_samples and n_clusters|Many clusters, possibly connectivity constraints, non Euclidean distances|Any pairwise distance|\n",
    "|DBSCAN|neighborhood size|Very large n_samples, medium n_clusters|Non-flat geometry, uneven cluster sizes|Distances between nearest points|\n",
    "|Gaussian mixtures|many|Not scalable|Flat geometry, good for density estimation|Mahalanobis distances to centers|\n",
    "|Birch|branching factor, threshold, optional global clusterer.|Large n_clusters and n_samples|Large dataset, outlier removal, data reduction.|Euclidean distance between points|\n",
    "\n",
    "Because of the data in the table above 5 types of clustering have been chosen to try out:\n",
    " - K-Means\n",
    " - Ward hierarchical clustering\n",
    " - Agglomerative clustering\n",
    " - DBSCAN\n",
    " - Birch"
   ]
  },
  {
   "cell_type": "code",
   "execution_count": 102,
   "metadata": {},
   "outputs": [],
   "source": [
    "from PIL import Image\n",
    "\n",
    "#open image and convert to greyscale value\n",
    "img = Image.open(\"../../downloader/pics/BaguEsbAgd7.jpg\").convert('LA')\n",
    "\n",
    "#convert greyscale image to numpy array\n",
    "imgdata = np.asarray(img)"
   ]
  },
  {
   "cell_type": "markdown",
   "metadata": {},
   "source": [
    "## K-Means"
   ]
  },
  {
   "cell_type": "code",
   "execution_count": 105,
   "metadata": {},
   "outputs": [
    {
     "data": {
      "image/png": "[encoded data removed]",
      "text/plain": [
       "<Figure size 432x288 with 1 Axes>"
      ]
     },
     "metadata": {},
     "output_type": "display_data"
    }
   ],
   "source": [
    "from sklearn.cluster import KMeans\n",
    "import matplotlib.pyplot as plt\n",
    "# test setup for k-means clustering\n",
    "size= 40\n",
    "points = 5 * np.random.rand(size,2)\n",
    "\n",
    "#do clustering\n",
    "kmeans = KMeans(n_clusters=5, random_state=0).fit(points)\n",
    "centers = kmeans.cluster_centers_\n",
    "\n",
    "#plot result with original data.\n",
    "plt.scatter(points[:, 0], points[:, 1])\n",
    "plt.scatter(centers[:, 0], centers[:, 1], s=10000, c=\"lightblue\", cmap=\"Blues\", alpha=0.5, edgecolors=\"grey\", linewidth=2)\n",
    "plt.show()"
   ]
  },
  {
   "cell_type": "markdown",
   "metadata": {},
   "source": [
    "## Ward Hierarchical Clustering"
   ]
  },
  {
   "cell_type": "code",
   "execution_count": 107,
   "metadata": {},
   "outputs": [
    {
     "ename": "AttributeError",
     "evalue": "'AgglomerativeClustering' object has no attribute 'centers'",
     "output_type": "error",
     "traceback": [
      "\u001b[0;31m---------------------------------------------------------------------------\u001b[0m",
      "\u001b[0;31mAttributeError\u001b[0m                            Traceback (most recent call last)",
      "\u001b[0;32m<ipython-input-107-1b6021c625ba>\u001b[0m in \u001b[0;36m<module>\u001b[0;34m()\u001b[0m\n\u001b[1;32m      7\u001b[0m \u001b[0mclustering\u001b[0m\u001b[0;34m.\u001b[0m\u001b[0mfit\u001b[0m\u001b[0;34m(\u001b[0m\u001b[0mpoints\u001b[0m\u001b[0;34m)\u001b[0m\u001b[0;34m\u001b[0m\u001b[0m\n\u001b[1;32m      8\u001b[0m \u001b[0;34m\u001b[0m\u001b[0m\n\u001b[0;32m----> 9\u001b[0;31m \u001b[0mcenter\u001b[0m \u001b[0;34m=\u001b[0m \u001b[0mclustering\u001b[0m\u001b[0;34m.\u001b[0m\u001b[0mcenters\u001b[0m\u001b[0;34m\u001b[0m\u001b[0m\n\u001b[0m\u001b[1;32m     10\u001b[0m \u001b[0;34m\u001b[0m\u001b[0m\n\u001b[1;32m     11\u001b[0m \u001b[0mplt\u001b[0m\u001b[0;34m.\u001b[0m\u001b[0mscatter\u001b[0m\u001b[0;34m(\u001b[0m\u001b[0mpoints\u001b[0m\u001b[0;34m[\u001b[0m\u001b[0;34m:\u001b[0m\u001b[0;34m,\u001b[0m \u001b[0;36m0\u001b[0m\u001b[0;34m]\u001b[0m\u001b[0;34m,\u001b[0m \u001b[0mpoints\u001b[0m\u001b[0;34m[\u001b[0m\u001b[0;34m:\u001b[0m\u001b[0;34m,\u001b[0m \u001b[0;36m1\u001b[0m\u001b[0;34m]\u001b[0m\u001b[0;34m)\u001b[0m\u001b[0;34m\u001b[0m\u001b[0m\n",
      "\u001b[0;31mAttributeError\u001b[0m: 'AgglomerativeClustering' object has no attribute 'centers'"
     ]
    }
   ],
   "source": [
    "from sklearn.cluster import AgglomerativeClustering\n",
    "from sklearn import manifold\n",
    "\n",
    "points = 5 * np.random.rand(size,2)\n",
    "\n",
    "clustering = AgglomerativeClustering(linkage='ward', n_clusters=10)\n",
    "clustering.fit(points)\n",
    "\n",
    "center = clustering.\n",
    "\n",
    "plt.scatter(points[:, 0], points[:, 1])\n",
    "plt.scatter(centers[:, 0], centers[:, 1], s=10000, c=\"lightblue\", cmap=\"Blues\", alpha=0.5, edgecolors=\"grey\", linewidth=2)\n",
    "plt.show()"
   ]
  },
  {
   "cell_type": "code",
   "execution_count": null,
   "metadata": {},
   "outputs": [],
   "source": []
  }
 ],
 "metadata": {
  "kernelspec": {
   "display_name": "Python 3",
   "language": "python",
   "name": "python3"
  },
  "language_info": {
   "codemirror_mode": {
    "name": "ipython",
    "version": 3
   },
   "file_extension": ".py",
   "mimetype": "text/x-python",
   "name": "python",
   "nbconvert_exporter": "python",
   "pygments_lexer": "ipython3",
   "version": "3.6.5"
  }
 },
 "nbformat": 4,
 "nbformat_minor": 2
}
